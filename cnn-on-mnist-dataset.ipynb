{
 "cells": [
  {
   "cell_type": "markdown",
   "id": "d1f4083a",
   "metadata": {
    "papermill": {
     "duration": 0.003986,
     "end_time": "2024-10-02T07:56:27.623324",
     "exception": false,
     "start_time": "2024-10-02T07:56:27.619338",
     "status": "completed"
    },
    "tags": []
   },
   "source": [
    "# Just practicing model from GFG"
   ]
  },
  {
   "cell_type": "markdown",
   "id": "272f16e6",
   "metadata": {
    "papermill": {
     "duration": 0.003084,
     "end_time": "2024-10-02T07:56:27.629962",
     "exception": false,
     "start_time": "2024-10-02T07:56:27.626878",
     "status": "completed"
    },
    "tags": []
   },
   "source": [
    "IMporting all necessary libraries"
   ]
  },
  {
   "cell_type": "code",
   "execution_count": 1,
   "id": "8aefbd43",
   "metadata": {
    "execution": {
     "iopub.execute_input": "2024-10-02T07:56:27.637840Z",
     "iopub.status.busy": "2024-10-02T07:56:27.637531Z",
     "iopub.status.idle": "2024-10-02T07:56:41.647776Z",
     "shell.execute_reply": "2024-10-02T07:56:41.646751Z"
    },
    "papermill": {
     "duration": 14.016845,
     "end_time": "2024-10-02T07:56:41.650086",
     "exception": false,
     "start_time": "2024-10-02T07:56:27.633241",
     "status": "completed"
    },
    "tags": []
   },
   "outputs": [],
   "source": [
    "import numpy as np\n",
    "import keras \n",
    "from keras.datasets import mnist\n",
    "from keras.models import Model\n",
    "from keras.layers import Dense, Input\n",
    "from keras.layers import Conv2D, MaxPooling2D, Dropout, Flatten\n",
    "from keras import backend as k"
   ]
  },
  {
   "cell_type": "markdown",
   "id": "72a4d126",
   "metadata": {
    "papermill": {
     "duration": 0.00347,
     "end_time": "2024-10-02T07:56:41.657179",
     "exception": false,
     "start_time": "2024-10-02T07:56:41.653709",
     "status": "completed"
    },
    "tags": []
   },
   "source": [
    "mnist dataset is a dataset of handwritten images (28 x 28).\n",
    "creating training and testing data.\n"
   ]
  },
  {
   "cell_type": "code",
   "execution_count": 2,
   "id": "49d6b9ff",
   "metadata": {
    "execution": {
     "iopub.execute_input": "2024-10-02T07:56:41.667255Z",
     "iopub.status.busy": "2024-10-02T07:56:41.666576Z",
     "iopub.status.idle": "2024-10-02T07:56:42.081124Z",
     "shell.execute_reply": "2024-10-02T07:56:42.080158Z"
    },
    "papermill": {
     "duration": 0.421395,
     "end_time": "2024-10-02T07:56:42.083409",
     "exception": false,
     "start_time": "2024-10-02T07:56:41.662014",
     "status": "completed"
    },
    "tags": []
   },
   "outputs": [
    {
     "name": "stdout",
     "output_type": "stream",
     "text": [
      "Downloading data from https://storage.googleapis.com/tensorflow/tf-keras-datasets/mnist.npz\n",
      "\u001b[1m11490434/11490434\u001b[0m \u001b[32m━━━━━━━━━━━━━━━━━━━━\u001b[0m\u001b[37m\u001b[0m \u001b[1m0s\u001b[0m 0us/step\n"
     ]
    }
   ],
   "source": [
    "(x_train, y_train), (x_test, y_test) = mnist.load_data()"
   ]
  },
  {
   "cell_type": "code",
   "execution_count": 3,
   "id": "8263faed",
   "metadata": {
    "execution": {
     "iopub.execute_input": "2024-10-02T07:56:42.092595Z",
     "iopub.status.busy": "2024-10-02T07:56:42.091993Z",
     "iopub.status.idle": "2024-10-02T07:56:42.172791Z",
     "shell.execute_reply": "2024-10-02T07:56:42.171986Z"
    },
    "papermill": {
     "duration": 0.087946,
     "end_time": "2024-10-02T07:56:42.175294",
     "exception": false,
     "start_time": "2024-10-02T07:56:42.087348",
     "status": "completed"
    },
    "tags": []
   },
   "outputs": [],
   "source": [
    "img_rows, img_cols=28, 28  #image dimension 28 x 28\n",
    "\n",
    "if k.image_data_format() == 'channels_first':    #ch3ck data format\n",
    "   x_train = x_train.reshape(x_train.shape[0], 1, img_rows, img_cols)\n",
    "   x_test = x_test.reshape(x_test.shape[0], 1, img_rows, img_cols)\n",
    "   inpx = (1, img_rows, img_cols)\n",
    "\n",
    "else:\n",
    "   x_train = x_train.reshape(x_train.shape[0], img_rows, img_cols, 1)\n",
    "   x_test = x_test.reshape(x_test.shape[0], img_rows, img_cols, 1)\n",
    "   inpx = (img_rows, img_cols, 1)\n",
    "\n",
    "x_train = x_train.astype('float32')\n",
    "x_test = x_test.astype('float32')\n",
    "x_train /= 255  #normalize by diving by 255\n",
    "x_test /= 255\n"
   ]
  },
  {
   "cell_type": "code",
   "execution_count": 4,
   "id": "ca87197b",
   "metadata": {
    "execution": {
     "iopub.execute_input": "2024-10-02T07:56:42.184542Z",
     "iopub.status.busy": "2024-10-02T07:56:42.184153Z",
     "iopub.status.idle": "2024-10-02T07:56:42.193370Z",
     "shell.execute_reply": "2024-10-02T07:56:42.192594Z"
    },
    "papermill": {
     "duration": 0.015909,
     "end_time": "2024-10-02T07:56:42.195303",
     "exception": false,
     "start_time": "2024-10-02T07:56:42.179394",
     "status": "completed"
    },
    "tags": []
   },
   "outputs": [],
   "source": [
    "y_train = keras.utils.to_categorical(y_train)   # making 10 classes as output 0 -9\n",
    "y_test = keras.utils.to_categorical(y_test)"
   ]
  },
  {
   "cell_type": "markdown",
   "id": "5451b444",
   "metadata": {
    "papermill": {
     "duration": 0.003468,
     "end_time": "2024-10-02T07:56:42.202450",
     "exception": false,
     "start_time": "2024-10-02T07:56:42.198982",
     "status": "completed"
    },
    "tags": []
   },
   "source": [
    "**CNN model:**\n",
    "\n",
    "\n",
    "1. layer1 is the Conv2d layer which convolves the image using 32 filters each of size (3*3). \n",
    "1. layer2 is again a Conv2D layer which is also used to convolve the image and is using 64 filters each of size (3*3). \n",
    "1. layer3 is the MaxPooling2D layer which picks the max value out of a matrix of size (3*3). \n",
    "1. layer4 is showing Dropout at a rate of 0.5. \n",
    "1. layer5 is flattening the output obtained from layer4 and this flattens output is passed to layer6. \n",
    "1. layer6 is a hidden layer of a neural network containing 250 neurons. \n",
    "1. layer7 is the output layer having 10 neurons for 10 classes of output that is using the softmax function."
   ]
  },
  {
   "cell_type": "code",
   "execution_count": 5,
   "id": "33da5ec0",
   "metadata": {
    "execution": {
     "iopub.execute_input": "2024-10-02T07:56:42.211232Z",
     "iopub.status.busy": "2024-10-02T07:56:42.210562Z",
     "iopub.status.idle": "2024-10-02T07:56:43.103231Z",
     "shell.execute_reply": "2024-10-02T07:56:43.102451Z"
    },
    "papermill": {
     "duration": 0.899353,
     "end_time": "2024-10-02T07:56:43.105456",
     "exception": false,
     "start_time": "2024-10-02T07:56:42.206103",
     "status": "completed"
    },
    "tags": []
   },
   "outputs": [],
   "source": [
    "inpx = Input(shape=inpx)\n",
    "layer1 = Conv2D(32, kernel_size=(3, 3), activation='relu')(inpx)\n",
    "layer2 = Conv2D(64, (3, 3), activation='relu')(layer1)\n",
    "layer3 = MaxPooling2D(pool_size=(3, 3))(layer2)\n",
    "layer4 = Dropout(0.5)(layer3)\n",
    "layer5 = Flatten()(layer4)\n",
    "layer6 = Dense(250, activation='sigmoid')(layer5)\n",
    "layer7 = Dense(10, activation='softmax')(layer6)\n"
   ]
  },
  {
   "cell_type": "code",
   "execution_count": 6,
   "id": "e96ec921",
   "metadata": {
    "execution": {
     "iopub.execute_input": "2024-10-02T07:56:43.115114Z",
     "iopub.status.busy": "2024-10-02T07:56:43.114833Z",
     "iopub.status.idle": "2024-10-02T07:57:11.891510Z",
     "shell.execute_reply": "2024-10-02T07:57:11.890630Z"
    },
    "papermill": {
     "duration": 28.783128,
     "end_time": "2024-10-02T07:57:11.893410",
     "exception": false,
     "start_time": "2024-10-02T07:56:43.110282",
     "status": "completed"
    },
    "tags": []
   },
   "outputs": [
    {
     "name": "stdout",
     "output_type": "stream",
     "text": [
      "Epoch 1/12\n"
     ]
    },
    {
     "name": "stderr",
     "output_type": "stream",
     "text": [
      "WARNING: All log messages before absl::InitializeLog() is called are written to STDERR\n",
      "I0000 00:00:1727855804.773698      69 service.cc:145] XLA service 0x7bb1d4006110 initialized for platform CUDA (this does not guarantee that XLA will be used). Devices:\n",
      "I0000 00:00:1727855804.773749      69 service.cc:153]   StreamExecutor device (0): Tesla T4, Compute Capability 7.5\n",
      "I0000 00:00:1727855804.773752      69 service.cc:153]   StreamExecutor device (1): Tesla T4, Compute Capability 7.5\n"
     ]
    },
    {
     "name": "stdout",
     "output_type": "stream",
     "text": [
      "\u001b[1m  9/120\u001b[0m \u001b[32m━\u001b[0m\u001b[37m━━━━━━━━━━━━━━━━━━━\u001b[0m \u001b[1m1s\u001b[0m 15ms/step - accuracy: 0.0930 - loss: 2.4290"
     ]
    },
    {
     "name": "stderr",
     "output_type": "stream",
     "text": [
      "I0000 00:00:1727855809.749343      69 device_compiler.h:188] Compiled cluster using XLA!  This line is logged at most once for the lifetime of the process.\n"
     ]
    },
    {
     "name": "stdout",
     "output_type": "stream",
     "text": [
      "\u001b[1m120/120\u001b[0m \u001b[32m━━━━━━━━━━━━━━━━━━━━\u001b[0m\u001b[37m\u001b[0m \u001b[1m8s\u001b[0m 15ms/step - accuracy: 0.0983 - loss: 2.4160\n",
      "Epoch 2/12\n",
      "\u001b[1m120/120\u001b[0m \u001b[32m━━━━━━━━━━━━━━━━━━━━\u001b[0m\u001b[37m\u001b[0m \u001b[1m2s\u001b[0m 15ms/step - accuracy: 0.0980 - loss: 2.4046\n",
      "Epoch 3/12\n",
      "\u001b[1m120/120\u001b[0m \u001b[32m━━━━━━━━━━━━━━━━━━━━\u001b[0m\u001b[37m\u001b[0m \u001b[1m2s\u001b[0m 15ms/step - accuracy: 0.0997 - loss: 2.3909\n",
      "Epoch 4/12\n",
      "\u001b[1m120/120\u001b[0m \u001b[32m━━━━━━━━━━━━━━━━━━━━\u001b[0m\u001b[37m\u001b[0m \u001b[1m2s\u001b[0m 15ms/step - accuracy: 0.1006 - loss: 2.3770\n",
      "Epoch 5/12\n",
      "\u001b[1m120/120\u001b[0m \u001b[32m━━━━━━━━━━━━━━━━━━━━\u001b[0m\u001b[37m\u001b[0m \u001b[1m2s\u001b[0m 15ms/step - accuracy: 0.0986 - loss: 2.3685\n",
      "Epoch 6/12\n",
      "\u001b[1m120/120\u001b[0m \u001b[32m━━━━━━━━━━━━━━━━━━━━\u001b[0m\u001b[37m\u001b[0m \u001b[1m2s\u001b[0m 15ms/step - accuracy: 0.1004 - loss: 2.3547\n",
      "Epoch 7/12\n",
      "\u001b[1m120/120\u001b[0m \u001b[32m━━━━━━━━━━━━━━━━━━━━\u001b[0m\u001b[37m\u001b[0m \u001b[1m2s\u001b[0m 15ms/step - accuracy: 0.1010 - loss: 2.3444\n",
      "Epoch 8/12\n",
      "\u001b[1m120/120\u001b[0m \u001b[32m━━━━━━━━━━━━━━━━━━━━\u001b[0m\u001b[37m\u001b[0m \u001b[1m2s\u001b[0m 15ms/step - accuracy: 0.1061 - loss: 2.3324\n",
      "Epoch 9/12\n",
      "\u001b[1m120/120\u001b[0m \u001b[32m━━━━━━━━━━━━━━━━━━━━\u001b[0m\u001b[37m\u001b[0m \u001b[1m2s\u001b[0m 15ms/step - accuracy: 0.1063 - loss: 2.3221\n",
      "Epoch 10/12\n",
      "\u001b[1m120/120\u001b[0m \u001b[32m━━━━━━━━━━━━━━━━━━━━\u001b[0m\u001b[37m\u001b[0m \u001b[1m2s\u001b[0m 15ms/step - accuracy: 0.1126 - loss: 2.3135\n",
      "Epoch 11/12\n",
      "\u001b[1m120/120\u001b[0m \u001b[32m━━━━━━━━━━━━━━━━━━━━\u001b[0m\u001b[37m\u001b[0m \u001b[1m2s\u001b[0m 15ms/step - accuracy: 0.1215 - loss: 2.3048\n",
      "Epoch 12/12\n",
      "\u001b[1m120/120\u001b[0m \u001b[32m━━━━━━━━━━━━━━━━━━━━\u001b[0m\u001b[37m\u001b[0m \u001b[1m2s\u001b[0m 15ms/step - accuracy: 0.1321 - loss: 2.2954\n"
     ]
    },
    {
     "data": {
      "text/plain": [
       "<keras.src.callbacks.history.History at 0x7bb27cdc8fa0>"
      ]
     },
     "execution_count": 6,
     "metadata": {},
     "output_type": "execute_result"
    }
   ],
   "source": [
    "model = Model([inpx], layer7)\n",
    "model.compile(optimizer=keras.optimizers.Adadelta(),\n",
    "              loss=keras.losses.categorical_crossentropy,\n",
    "              metrics=['accuracy'])\n",
    "\n",
    "model.fit(x_train, y_train, epochs=12, batch_size=500)\n"
   ]
  },
  {
   "cell_type": "code",
   "execution_count": 7,
   "id": "223377f4",
   "metadata": {
    "execution": {
     "iopub.execute_input": "2024-10-02T07:57:11.963515Z",
     "iopub.status.busy": "2024-10-02T07:57:11.963182Z",
     "iopub.status.idle": "2024-10-02T07:57:13.506973Z",
     "shell.execute_reply": "2024-10-02T07:57:13.505630Z"
    },
    "papermill": {
     "duration": 1.580576,
     "end_time": "2024-10-02T07:57:13.509140",
     "exception": false,
     "start_time": "2024-10-02T07:57:11.928564",
     "status": "completed"
    },
    "tags": []
   },
   "outputs": [
    {
     "name": "stdout",
     "output_type": "stream",
     "text": [
      "loss= 2.287602186203003\n",
      "accuracy= 0.12790000438690186\n"
     ]
    }
   ],
   "source": [
    "score = model.evaluate(x_test, y_test, verbose=0)\n",
    "print('loss=', score[0])\n",
    "print('accuracy=', score[1])"
   ]
  }
 ],
 "metadata": {
  "kaggle": {
   "accelerator": "nvidiaTeslaT4",
   "dataSources": [
    {
     "datasetId": 27352,
     "sourceId": 34877,
     "sourceType": "datasetVersion"
    }
   ],
   "dockerImageVersionId": 30776,
   "isGpuEnabled": true,
   "isInternetEnabled": true,
   "language": "python",
   "sourceType": "notebook"
  },
  "kernelspec": {
   "display_name": "Python 3",
   "language": "python",
   "name": "python3"
  },
  "language_info": {
   "codemirror_mode": {
    "name": "ipython",
    "version": 3
   },
   "file_extension": ".py",
   "mimetype": "text/x-python",
   "name": "python",
   "nbconvert_exporter": "python",
   "pygments_lexer": "ipython3",
   "version": "3.10.14"
  },
  "papermill": {
   "default_parameters": {},
   "duration": 50.59135,
   "end_time": "2024-10-02T07:57:15.366505",
   "environment_variables": {},
   "exception": null,
   "input_path": "__notebook__.ipynb",
   "output_path": "__notebook__.ipynb",
   "parameters": {},
   "start_time": "2024-10-02T07:56:24.775155",
   "version": "2.6.0"
  }
 },
 "nbformat": 4,
 "nbformat_minor": 5
}
